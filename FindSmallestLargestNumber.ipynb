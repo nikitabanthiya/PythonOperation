{
 "cells": [
  {
   "cell_type": "code",
   "execution_count": 10,
   "metadata": {},
   "outputs": [
    {
     "name": "stdout",
     "output_type": "stream",
     "text": [
      "30\n",
      "1\n"
     ]
    }
   ],
   "source": [
    "##Method one \n",
    "\n",
    "data =[1,0,30,80]\n",
    "## find the second smallest/largest number\n",
    "def findSecond(data,param):\n",
    "    reverseParam =False\n",
    "    if(param == 1):\n",
    "        reverseParam =True\n",
    "    data.sort(reverse=reverseParam)\n",
    "    return(data[1])\n",
    "## to get the second largest pass 1 in param\n",
    "print(findSecond(data,1))\n",
    "\n",
    "## to get the second smallest pass 0 in param\n",
    "print(findSecond(data,0))\n",
    "\n"
   ]
  },
  {
   "cell_type": "code",
   "execution_count": 11,
   "metadata": {},
   "outputs": [
    {
     "name": "stdout",
     "output_type": "stream",
     "text": [
      "45\n"
     ]
    }
   ],
   "source": [
    "### Method 2\n",
    "## remove the largest number  from the array by max and then take the largest second number\n",
    "# list of numbers \n",
    "list1 = [10, 20, 4, 45, 99] \n",
    "def larestNumber(list1):\n",
    "    \n",
    "    new_list = set(list1) \n",
    "    new_list.remove(max(new_list)) \n",
    "    print(max(new_list))\n",
    "larestNumber(list1)"
   ]
  },
  {
   "cell_type": "code",
   "execution_count": 12,
   "metadata": {},
   "outputs": [
    {
     "name": "stdout",
     "output_type": "stream",
     "text": [
      "10\n"
     ]
    }
   ],
   "source": [
    "## remove the smallest number  from the array by min and then take the smallest second number\n",
    "# list of numbers \n",
    "list1 = [10, 20, 4, 45, 99] \n",
    "def larestNumber(list1):\n",
    "    \n",
    "    new_list = set(list1) \n",
    "    new_list.remove(min(new_list)) \n",
    "    print(min(new_list))\n",
    "larestNumber(list1)"
   ]
  },
  {
   "cell_type": "code",
   "execution_count": 7,
   "metadata": {},
   "outputs": [
    {
     "name": "stdout",
     "output_type": "stream",
     "text": [
      "Largest element is: 45\n",
      "Smallest element is: 2\n",
      "Second Largest element is: 41\n",
      "Second Smallest element is: 4\n"
     ]
    }
   ],
   "source": [
    "## Method 3\n",
    "\n",
    "# Python program to find largest, smallest,  \n",
    "# second largest and second smallest in a \n",
    "# list with complexity O(n) \n",
    "def Range(list1):  \n",
    "    largest = list1[0]  \n",
    "    lowest = list1[0]  \n",
    "    largest2 = None\n",
    "    lowest2 = None\n",
    "    for item in list1[1:]:      \n",
    "        if item > largest:  \n",
    "            largest2 = largest \n",
    "            largest = item  \n",
    "        elif largest2 == None or largest2 < item:  \n",
    "            largest2 = item  \n",
    "        if item < lowest:  \n",
    "            lowest2 = lowest \n",
    "            lowest = item  \n",
    "        elif lowest2 == None or lowest2 > item:  \n",
    "            lowest2 = item  \n",
    "              \n",
    "    print(\"Largest element is:\", largest)  \n",
    "    print(\"Smallest element is:\", lowest)  \n",
    "    print(\"Second Largest element is:\", largest2)  \n",
    "    print(\"Second Smallest element is:\", lowest2)  \n",
    "  \n",
    "  \n",
    "# Driver Code \n",
    "list1 = [12, 45, 2, 41, 31, 10, 8, 6, 4] \n",
    "Range(list1) \n"
   ]
  },
  {
   "cell_type": "code",
   "execution_count": null,
   "metadata": {},
   "outputs": [],
   "source": []
  },
  {
   "cell_type": "code",
   "execution_count": null,
   "metadata": {},
   "outputs": [],
   "source": []
  }
 ],
 "metadata": {
  "kernelspec": {
   "display_name": "Python 3",
   "language": "python",
   "name": "python3"
  },
  "language_info": {
   "codemirror_mode": {
    "name": "ipython",
    "version": 3
   },
   "file_extension": ".py",
   "mimetype": "text/x-python",
   "name": "python",
   "nbconvert_exporter": "python",
   "pygments_lexer": "ipython3",
   "version": "3.7.1"
  }
 },
 "nbformat": 4,
 "nbformat_minor": 2
}
