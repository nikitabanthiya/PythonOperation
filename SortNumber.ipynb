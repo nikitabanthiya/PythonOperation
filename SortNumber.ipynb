{
 "cells": [
  {
   "cell_type": "code",
   "execution_count": 28,
   "metadata": {},
   "outputs": [
    {
     "name": "stdout",
     "output_type": "stream",
     "text": [
      "[3.14, 8, 10, 15, 22.4]\n",
      "['apples', 'Bananas', 'oranges']\n",
      "[(3, 3), (3, 10), (5, 4)]\n",
      "[('Alex', 5), ('Bob', 20), ('Alice', 25)]\n"
     ]
    },
    {
     "data": {
      "text/plain": [
       "['u', 'o', 'i', 'e', 'a']"
      ]
     },
     "execution_count": 28,
     "metadata": {},
     "output_type": "execute_result"
    }
   ],
   "source": [
    "## first sorting\n",
    "def sorting(numbers):\n",
    "    numbers.sort() \n",
    "    return numbers\n",
    "sorting(numbers)\n",
    "\n",
    "\n",
    "##If you want to create a new sorted list without modifying the original one, \n",
    "##you should use the sorted function instead.\n",
    "L = [15, 22.4, 8, 10, 3.14]\n",
    "sorted_list = sorted(L)\n",
    "print(sorted_list)\n",
    "\n",
    "\n",
    "## sort list and put it in lower case\n",
    "L = [\"oranges\", \"apples\", \"Bananas\"]\n",
    "L.sort(key=str.lower)\n",
    "print(L)\n",
    "\n",
    "### sort list of tuples\n",
    "data = sorted([(5, 4), (3, 3), (3, 10)])\n",
    "print(data)\n",
    "\n",
    "## how can you sort a list of tuples by the second element?\n",
    "def custom_sort(t):\n",
    "    return t[1]\n",
    "\n",
    "L = [(\"Alice\", 25), (\"Bob\", 20), (\"Alex\", 5)]\n",
    "L.sort(key=custom_sort)\n",
    "print(L)\n",
    "\n",
    "\n",
    "## sort in descending order in Dictonary\n",
    "pySet = {'e', 'a', 'u', 'o', 'i'}\n",
    "def sortDef(pySet):\n",
    "  return(sorted(pySet, reverse=True))  \n",
    "sortDef(pySet)\n"
   ]
  },
  {
   "cell_type": "code",
   "execution_count": null,
   "metadata": {},
   "outputs": [],
   "source": []
  },
  {
   "cell_type": "code",
   "execution_count": null,
   "metadata": {},
   "outputs": [],
   "source": []
  }
 ],
 "metadata": {
  "kernelspec": {
   "display_name": "Python 3",
   "language": "python",
   "name": "python3"
  },
  "language_info": {
   "codemirror_mode": {
    "name": "ipython",
    "version": 3
   },
   "file_extension": ".py",
   "mimetype": "text/x-python",
   "name": "python",
   "nbconvert_exporter": "python",
   "pygments_lexer": "ipython3",
   "version": "3.7.1"
  }
 },
 "nbformat": 4,
 "nbformat_minor": 2
}
