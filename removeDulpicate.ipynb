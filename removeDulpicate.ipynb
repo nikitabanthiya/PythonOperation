{
 "cells": [
  {
   "cell_type": "code",
   "execution_count": 1,
   "metadata": {},
   "outputs": [
    {
     "name": "stdout",
     "output_type": "stream",
     "text": [
      "The list after removing duplicates : [1, 3, 5, 6]\n"
     ]
    }
   ],
   "source": [
    "## METHOD 1\n",
    "test_list = [1, 3, 5, 6, 3, 5, 6, 1] \n",
    "def removeDuplicate(test_list):\n",
    "    res = [] \n",
    "    for i in test_list: \n",
    "        if i not in res: \n",
    "            res.append(i) \n",
    "\n",
    "    # printing list after removal  \n",
    "    print (\"The list after removing duplicates : \" + str(res)) \n",
    "removeDuplicate(test_list)"
   ]
  },
  {
   "cell_type": "code",
   "execution_count": 7,
   "metadata": {},
   "outputs": [
    {
     "name": "stdout",
     "output_type": "stream",
     "text": [
      "The list after removing duplicates : [1, 3, 5, 6]\n"
     ]
    }
   ],
   "source": [
    "##Another way to write the above code \n",
    "res =[]\n",
    "[res.append(i) for i in test_list if i not in res]\n",
    "print (\"The list after removing duplicates : \" + str(res)) "
   ]
  },
  {
   "cell_type": "code",
   "execution_count": 11,
   "metadata": {},
   "outputs": [
    {
     "data": {
      "text/plain": [
       "[1, 3, 5, 6]"
      ]
     },
     "execution_count": 11,
     "metadata": {},
     "output_type": "execute_result"
    }
   ],
   "source": [
    "## METHOD 2\n",
    "### we can remove it by set also \n",
    "\n",
    "def removeBySet(test_list):\n",
    "    test_list = list(set(test_list)) \n",
    "    return test_list\n",
    "removeBySet(test_list)\n",
    "  "
   ]
  },
  {
   "cell_type": "code",
   "execution_count": 12,
   "metadata": {},
   "outputs": [
    {
     "name": "stdout",
     "output_type": "stream",
     "text": [
      "The list after removing duplicates : [1, 3, 5, 6]\n"
     ]
    }
   ],
   "source": [
    "### METHOD 3\n",
    "from collections import OrderedDict \n",
    "  \n",
    "def orderDict(test_list):\n",
    "    \n",
    "    res = list(OrderedDict.fromkeys(test_list)) \n",
    "    print (\"The list after removing duplicates : \" + str(res))\n",
    "orderDict(test_list)"
   ]
  },
  {
   "cell_type": "code",
   "execution_count": null,
   "metadata": {},
   "outputs": [],
   "source": []
  }
 ],
 "metadata": {
  "kernelspec": {
   "display_name": "Python 3",
   "language": "python",
   "name": "python3"
  },
  "language_info": {
   "codemirror_mode": {
    "name": "ipython",
    "version": 3
   },
   "file_extension": ".py",
   "mimetype": "text/x-python",
   "name": "python",
   "nbconvert_exporter": "python",
   "pygments_lexer": "ipython3",
   "version": "3.7.1"
  }
 },
 "nbformat": 4,
 "nbformat_minor": 2
}
